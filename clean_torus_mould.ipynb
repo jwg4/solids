{
 "cells": [
  {
   "cell_type": "code",
   "execution_count": 1,
   "id": "b0e22fd1-b79f-41fd-bf27-0a28a5fa76b0",
   "metadata": {},
   "outputs": [],
   "source": [
    "from math import sqrt, cos, sin, pi"
   ]
  },
  {
   "cell_type": "code",
   "execution_count": 2,
   "id": "4c6f4358-8486-401b-9d30-29ab41aec1e4",
   "metadata": {},
   "outputs": [],
   "source": [
    "import numpy as np"
   ]
  },
  {
   "cell_type": "code",
   "execution_count": 3,
   "id": "574a5695-4181-440c-ad55-bd35e4f47e67",
   "metadata": {},
   "outputs": [],
   "source": [
    "from geometry import triangulate, transform, wall_pieces"
   ]
  },
  {
   "cell_type": "code",
   "execution_count": 4,
   "id": "114425f0-63ed-4ae2-a128-27aa0e1ca83a",
   "metadata": {},
   "outputs": [],
   "source": [
    "from helpers import make_mesh, write_mesh"
   ]
  },
  {
   "cell_type": "code",
   "execution_count": 5,
   "id": "b04c0bb5-ce6c-413e-a3a4-e88f75ef3afb",
   "metadata": {},
   "outputs": [],
   "source": [
    "WALL = 0.4\n",
    "FLOOR = 0.6"
   ]
  },
  {
   "cell_type": "code",
   "execution_count": 6,
   "id": "5028f977-60eb-458c-ad65-658bc0514c1d",
   "metadata": {},
   "outputs": [],
   "source": [
    "lat_n = 20\n",
    "long_n = 10"
   ]
  },
  {
   "cell_type": "code",
   "execution_count": 7,
   "id": "14ea7faf-4ebf-4029-93db-506bc46b50f1",
   "metadata": {},
   "outputs": [],
   "source": [
    "inner_radius = 1\n",
    "outer_radius = 1.5"
   ]
  },
  {
   "cell_type": "code",
   "execution_count": 8,
   "id": "4160d347-1f3a-4159-a6f2-c09649da524a",
   "metadata": {},
   "outputs": [],
   "source": [
    "surface = []\n",
    "\n",
    "big_r = outer_radius + inner_radius\n",
    "small_r = outer_radius - inner_radius\n",
    "\n",
    "for j in range(0, long_n):\n",
    "    tx, ty = cos(pi / 4 * j / long_n), sin(pi / 4 * j / long_n)\n",
    "    sx, sy = cos(pi / 4 * (j + 1) / long_n), sin(pi / 4 * (j + 1) / long_n)\n",
    "        \n",
    "    surface.append([(tx * big_r, ty * big_r, 0), (sx * big_r, sy * big_r, 0), (big_r, big_r, 0)])\n",
    "    surface.append([(tx * small_r, ty * small_r, 0), (sx * small_r, sy * small_r, 0), (0, 0, 0)])\n",
    "\n",
    "    for i in range(0, lat_n):\n",
    "        # x and z coordinates\n",
    "        p1 = (outer_radius + cos(pi * i / lat_n) * inner_radius, -sin(pi * i / lat_n) * inner_radius)\n",
    "        p2 = (outer_radius + cos(pi * (i + 1) / lat_n) * inner_radius, -sin(pi * (i + 1) / lat_n) * inner_radius)\n",
    "        a1, a2 = (tx * p1[0], ty * p1[0], p1[1]), (tx * p2[0], ty * p2[0], p2[1])\n",
    "        b1, b2 = (sx * p1[0], sy * p1[0], p1[1]), (sx * p2[0], sy * p2[0], p2[1])\n",
    "\n",
    "        for tri in triangulate((a1, a2, b2, b1)):\n",
    "            surface.append(tri)"
   ]
  },
  {
   "cell_type": "code",
   "execution_count": 9,
   "id": "40d49fca-a4c4-42db-a930-2b5f630689d1",
   "metadata": {},
   "outputs": [],
   "source": [
    "surface = transform(surface, lambda x, y, z: (y, x, z + 1))"
   ]
  },
  {
   "cell_type": "code",
   "execution_count": 10,
   "id": "89925403-2298-46b9-82b1-dc193c311dd8",
   "metadata": {},
   "outputs": [],
   "source": [
    "front = []\n",
    "for i in range(0, lat_n):\n",
    "    # x and z coordinates\n",
    "    p1 = (outer_radius + cos(pi * i / lat_n) * inner_radius, -sin(pi * i / lat_n) * inner_radius)\n",
    "    p2 = (outer_radius + cos(pi * (i + 1) / lat_n) * inner_radius, -sin(pi * (i + 1) / lat_n) * inner_radius)\n",
    "\n",
    "    corner = (outer_radius + inner_radius, -inner_radius) if i < lat_n / 2 else (0, -inner_radius)\n",
    "    tri = (p1, p2, corner)\n",
    "    front.append([(p[0], 0, p[1]) for p in tri])\n",
    "\n",
    "front.append([(0, 0, 0), (0, 0, -inner_radius), (outer_radius - inner_radius, 0, 0)]) "
   ]
  },
  {
   "cell_type": "code",
   "execution_count": 11,
   "id": "88d6df4d-c74f-401e-b7d2-0d14c7e50d6e",
   "metadata": {},
   "outputs": [],
   "source": [
    "front = transform(front, lambda x, y, z: (y, x, z + 1))"
   ]
  },
  {
   "cell_type": "code",
   "execution_count": 13,
   "id": "c41cbaa8-8206-49f5-ba65-da034fc61429",
   "metadata": {},
   "outputs": [],
   "source": [
    "def make_5_piece(eighth, front_panel, wall, floor):\n",
    "    quarter = transform(eighth, lambda x, y, z: (x, y, z + floor)) + transform(eighth, lambda x, y, z: (y, x, z + floor))\n",
    "\n",
    "    width = max(p[0] for tri in eighth for p in tri)\n",
    "    front_bottom_rect = [\n",
    "        (0, 0, 0), (0, 0, floor), (0, width, floor), (0, width, 0)\n",
    "    ]\n",
    "    front = transform(front_panel, lambda x, y, z: (x, y, z + floor)) + list(triangulate(front_bottom_rect))\n",
    "\n",
    "    mould_quarter = quarter + front\n",
    "\n",
    "    shape_height = max(p[2] for tri in eighth for p in tri)\n",
    "    height = shape_height + floor\n",
    "    size = width + wall\n",
    "    intermediate_heights = [p[2] for tri in front_panel for p in tri if p[1] == 0 and p[0] == width]\n",
    "    heights = [0, floor] + [x + floor for x in intermediate_heights] + [height]\n",
    "\n",
    "    rim_quarter = list(triangulate(\n",
    "        [(0, width, height), (0, size, height), (size, size, height), (width, width, height)]\n",
    "    ))\n",
    "\n",
    "    top_rim = (\n",
    "        rim_quarter\n",
    "        + transform(rim_quarter, lambda x, y, z: (y, x, z))\n",
    "        + transform(rim_quarter, lambda x, y, z: (x, -y, z))\n",
    "        + transform(rim_quarter, lambda x, y, z: (y, -x, z))\n",
    "    )\n",
    "\n",
    "    floor_square = list(triangulate(\n",
    "        [(0, 0, 0), (0, width, 0), (width, width, 0), (width, 0, 0)]\n",
    "    ))\n",
    "    floor_rim = transform(top_rim, lambda x, y, z: (x, y, 0))\n",
    "    floor_all = floor_rim + floor_square\n",
    "\n",
    "    left_outer_pieces = [\n",
    "        [(0, width), (0, size)],\n",
    "        [(0, size), (size, size)],\n",
    "        [(size, size), (size, 0)],\n",
    "    ]\n",
    "\n",
    "    outer_pieces = left_outer_pieces + [[(x, -y) for x, y in piece] for piece in left_outer_pieces]\n",
    "    wall_outer = list(tri for piece in outer_pieces for tri in wall_pieces(*piece, heights=heights))\n",
    "\n",
    "    wrapper = floor_all + wall_outer + top_rim\n",
    "    outer_mould = mould_quarter + wrapper\n",
    "    division = (\n",
    "        transform(front, lambda x, y, z: (y, x, z))\n",
    "        + list(wall_pieces((width, 0), (width, -width), heights))\n",
    "        + list(wall_pieces((width, -width), (0, -width), heights))\n",
    "    )\n",
    "\n",
    "    filler_square = transform(floor_square, lambda x, y, z: (x, -y, z))\n",
    "    filler_mould_quarter = transform(mould_quarter, lambda x, y, z: (x, -y, z))\n",
    "    filler = filler_square + filler_mould_quarter\n",
    "\n",
    "    piece_1 = outer_mould + filler\n",
    "    piece_4 = outer_mould + division\n",
    "    piece_5 = filler + division\n",
    "    \n",
    "    return piece_1, piece_4, piece_5"
   ]
  },
  {
   "cell_type": "code",
   "execution_count": 22,
   "id": "8825b5f6-21c4-4e05-b245-fb487bd7116a",
   "metadata": {},
   "outputs": [],
   "source": [
    "pieces = make_5_piece(surface, front, WALL, FLOOR)"
   ]
  },
  {
   "cell_type": "code",
   "execution_count": 23,
   "id": "e34b97b5-60eb-4081-ae5d-9b46c30f2c33",
   "metadata": {},
   "outputs": [],
   "source": [
    "MM_SCALE = 15"
   ]
  },
  {
   "cell_type": "code",
   "execution_count": 24,
   "id": "b393a077-7323-432d-b656-55cc050906b7",
   "metadata": {},
   "outputs": [],
   "source": [
    "def write_all_meshes(pieces, scale, name):\n",
    "    piece_1, piece_4, piece_5 = pieces\n",
    "    write_mesh(piece_1, scale, 'output/%s_1.stl' % (name, ))\n",
    "    write_mesh(piece_4, scale, 'output/%s_4.stl' % (name, ))\n",
    "    write_mesh(piece_5, scale, 'output/%s_5.stl' % (name, ))"
   ]
  },
  {
   "cell_type": "code",
   "execution_count": 25,
   "id": "dd7ea54d-b76a-49bd-b645-184e5f0826e9",
   "metadata": {},
   "outputs": [],
   "source": [
    "write_all_meshes(pieces, MM_SCALE, \"torus\")"
   ]
  },
  {
   "cell_type": "code",
   "execution_count": null,
   "id": "65b45d85-57e7-4a2d-8428-37ed404a9dd6",
   "metadata": {},
   "outputs": [],
   "source": []
  }
 ],
 "metadata": {
  "kernelspec": {
   "display_name": "Python 3 (ipykernel)",
   "language": "python",
   "name": "python3"
  },
  "language_info": {
   "codemirror_mode": {
    "name": "ipython",
    "version": 3
   },
   "file_extension": ".py",
   "mimetype": "text/x-python",
   "name": "python",
   "nbconvert_exporter": "python",
   "pygments_lexer": "ipython3",
   "version": "3.13.3"
  }
 },
 "nbformat": 4,
 "nbformat_minor": 5
}
