{
 "cells": [
  {
   "cell_type": "code",
   "execution_count": 1,
   "id": "b0e22fd1-b79f-41fd-bf27-0a28a5fa76b0",
   "metadata": {},
   "outputs": [],
   "source": [
    "from math import sqrt"
   ]
  },
  {
   "cell_type": "code",
   "execution_count": 2,
   "id": "4c6f4358-8486-401b-9d30-29ab41aec1e4",
   "metadata": {},
   "outputs": [],
   "source": [
    "import numpy as np"
   ]
  },
  {
   "cell_type": "code",
   "execution_count": 3,
   "id": "574a5695-4181-440c-ad55-bd35e4f47e67",
   "metadata": {},
   "outputs": [],
   "source": [
    "from geometry import triangulate, transform, wall_pieces"
   ]
  },
  {
   "cell_type": "code",
   "execution_count": 4,
   "id": "114425f0-63ed-4ae2-a128-27aa0e1ca83a",
   "metadata": {},
   "outputs": [],
   "source": [
    "from helpers import make_mesh, write_mesh"
   ]
  },
  {
   "cell_type": "code",
   "execution_count": 5,
   "id": "37c85194-1575-4f83-8364-e648c979d42d",
   "metadata": {},
   "outputs": [],
   "source": [
    "EIGHTH = [\n",
    "    [(0, 0, 2), (0, 1, 1), (1, 1, 1)],\n",
    "    [(0, 2, 1), (0, 1, 1), (1, 1, 1)],\n",
    "    [(0, 2, 1), (0, 2, 0), (1, 1, 1)],\n",
    "    [(2, 2, 0), (0, 2, 0), (1, 1, 1)],\n",
    "]   "
   ]
  },
  {
   "cell_type": "code",
   "execution_count": 6,
   "id": "83ffb4e6-b4ca-4070-8f07-53f285e7c747",
   "metadata": {},
   "outputs": [],
   "source": [
    "Z_SCALE = sqrt(2)"
   ]
  },
  {
   "cell_type": "code",
   "execution_count": 7,
   "id": "b04c0bb5-ce6c-413e-a3a4-e88f75ef3afb",
   "metadata": {},
   "outputs": [],
   "source": [
    "WALL = 0.4\n",
    "FLOOR = 0.6"
   ]
  },
  {
   "cell_type": "code",
   "execution_count": 8,
   "id": "069bc9dc-4a66-4e0a-8b45-17fa369b8aa1",
   "metadata": {},
   "outputs": [],
   "source": [
    "INNER_EIGHTH = transform(EIGHTH, lambda x, y, z: (x, y, Z_SCALE * (2 - z)))"
   ]
  },
  {
   "cell_type": "code",
   "execution_count": 9,
   "id": "44d8cdf7-35ae-4cee-b5e6-587778d9542d",
   "metadata": {},
   "outputs": [],
   "source": [
    "QUARTER_FRONT_TRI_RAW = [\n",
    "    [(0, 1, 1), (0, 0, 2), (0, 1, 2)],\n",
    "    [(0, 1, 1), (0, 2, 2), (0, 1, 2)],\n",
    "    [(0, 1, 1), (0, 2, 1), (0, 2, 2)],\n",
    "]\n",
    "\n",
    "QUARTER_FRONT_TRI = transform(QUARTER_FRONT_TRI_RAW, lambda x, y, z: (x, y, Z_SCALE * (2 - z)))"
   ]
  },
  {
   "cell_type": "code",
   "execution_count": 16,
   "id": "c41cbaa8-8206-49f5-ba65-da034fc61429",
   "metadata": {},
   "outputs": [],
   "source": [
    "def make_5_piece(eighth, front_panel, wall, floor):\n",
    "    quarter = transform(eighth, lambda x, y, z: (x, y, z + floor)) + transform(eighth, lambda x, y, z: (y, x, z + floor))\n",
    "\n",
    "    width = max(p[0] for tri in eighth for p in tri)\n",
    "    front_bottom_rect = [\n",
    "        (0, 0, 0), (0, 0, floor), (0, width, floor), (0, width, 0)\n",
    "    ]\n",
    "    front = transform(front_panel, lambda x, y, z: (x, y, z + floor)) + list(triangulate(front_bottom_rect))\n",
    "\n",
    "    mould_quarter = quarter + front\n",
    "\n",
    "    shape_height = max(p[2] for tri in eighth for p in tri)\n",
    "    height = shape_height + floor\n",
    "    size = width + wall\n",
    "    intermediate_heights = [p[2] for tri in front_panel for p in tri if p[1] == 0 and p[0] == width]\n",
    "    heights = [0, floor] + [x + floor for x in intermediate_heights] + [height]\n",
    "\n",
    "    rim_quarter = list(triangulate(\n",
    "        [(0, width, height), (0, size, height), (size, size, height), (width, width, height)]\n",
    "    ))\n",
    "\n",
    "    top_rim = (\n",
    "        rim_quarter\n",
    "        + transform(rim_quarter, lambda x, y, z: (y, x, z))\n",
    "        + transform(rim_quarter, lambda x, y, z: (x, -y, z))\n",
    "        + transform(rim_quarter, lambda x, y, z: (y, -x, z))\n",
    "    )\n",
    "\n",
    "    floor_square = list(triangulate(\n",
    "        [(0, 0, 0), (0, width, 0), (width, width, 0), (width, 0, 0)]\n",
    "    ))\n",
    "    floor_rim = transform(top_rim, lambda x, y, z: (x, y, 0))\n",
    "    floor_all = floor_rim + floor_square\n",
    "\n",
    "    left_outer_pieces = [\n",
    "        [(0, width), (0, size)],\n",
    "        [(0, size), (size, size)],\n",
    "        [(size, size), (size, 0)],\n",
    "    ]\n",
    "\n",
    "    outer_pieces = left_outer_pieces + [[(x, -y) for x, y in piece] for piece in left_outer_pieces]\n",
    "    wall_outer = list(tri for piece in outer_pieces for tri in wall_pieces(*piece, heights=heights))\n",
    "\n",
    "    wrapper = floor_all + wall_outer + top_rim\n",
    "    outer_mould = mould_quarter + wrapper\n",
    "    division = (\n",
    "        transform(front, lambda x, y, z: (y, x, z))\n",
    "        + list(wall_pieces((width, 0), (width, -width), heights))\n",
    "        + list(wall_pieces((width, -width), (0, -width), heights))\n",
    "    )\n",
    "\n",
    "    filler_square = transform(floor_square, lambda x, y, z: (x, -y, z))\n",
    "    filler_mould_quarter = transform(mould_quarter, lambda x, y, z: (x, -y, z))\n",
    "    filler = filler_square + filler_mould_quarter\n",
    "\n",
    "    piece_1 = outer_mould + filler\n",
    "    piece_4 = outer_mould + division\n",
    "    piece_5 = filler + division\n",
    "    \n",
    "    return piece_1, piece_4, piece_5"
   ]
  },
  {
   "cell_type": "code",
   "execution_count": 17,
   "id": "8825b5f6-21c4-4e05-b245-fb487bd7116a",
   "metadata": {},
   "outputs": [],
   "source": [
    "PIECE_1, PIECE_4, PIECE_5 = make_5_piece(INNER_EIGHTH, QUARTER_FRONT_TRI, WALL, FLOOR)"
   ]
  },
  {
   "cell_type": "code",
   "execution_count": 18,
   "id": "e34b97b5-60eb-4081-ae5d-9b46c30f2c33",
   "metadata": {},
   "outputs": [],
   "source": [
    "MM_SCALE = 15"
   ]
  },
  {
   "cell_type": "code",
   "execution_count": 19,
   "id": "3a824f8c-c0a5-4929-8486-3d8aebab31a9",
   "metadata": {},
   "outputs": [],
   "source": [
    "write_mesh(PIECE_1, MM_SCALE, 'output/piece_1.stl')"
   ]
  },
  {
   "cell_type": "code",
   "execution_count": 20,
   "id": "3d195c1f-f853-4fa8-aaac-6889790684d0",
   "metadata": {},
   "outputs": [],
   "source": [
    "write_mesh(PIECE_4, MM_SCALE, 'output/piece_4.stl')"
   ]
  },
  {
   "cell_type": "code",
   "execution_count": 21,
   "id": "e764eb51-2588-4998-af6a-357b2274902c",
   "metadata": {},
   "outputs": [],
   "source": [
    "write_mesh(PIECE_5, MM_SCALE, 'output/piece_5.stl')"
   ]
  },
  {
   "cell_type": "code",
   "execution_count": null,
   "id": "13bb3b08-cf06-40da-bdad-be4e72d75a18",
   "metadata": {},
   "outputs": [],
   "source": []
  }
 ],
 "metadata": {
  "kernelspec": {
   "display_name": "Python 3 (ipykernel)",
   "language": "python",
   "name": "python3"
  },
  "language_info": {
   "codemirror_mode": {
    "name": "ipython",
    "version": 3
   },
   "file_extension": ".py",
   "mimetype": "text/x-python",
   "name": "python",
   "nbconvert_exporter": "python",
   "pygments_lexer": "ipython3",
   "version": "3.13.3"
  }
 },
 "nbformat": 4,
 "nbformat_minor": 5
}
