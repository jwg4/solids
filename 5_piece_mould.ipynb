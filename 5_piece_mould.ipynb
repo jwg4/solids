{
 "cells": [
  {
   "cell_type": "code",
   "execution_count": 1,
   "id": "b0e22fd1-b79f-41fd-bf27-0a28a5fa76b0",
   "metadata": {},
   "outputs": [],
   "source": [
    "from math import sqrt"
   ]
  },
  {
   "cell_type": "code",
   "execution_count": 2,
   "id": "4c6f4358-8486-401b-9d30-29ab41aec1e4",
   "metadata": {},
   "outputs": [],
   "source": [
    "import numpy as np"
   ]
  },
  {
   "cell_type": "code",
   "execution_count": 3,
   "id": "574a5695-4181-440c-ad55-bd35e4f47e67",
   "metadata": {},
   "outputs": [],
   "source": [
    "from geometry import triangulate"
   ]
  },
  {
   "cell_type": "code",
   "execution_count": 4,
   "id": "114425f0-63ed-4ae2-a128-27aa0e1ca83a",
   "metadata": {},
   "outputs": [
    {
     "ename": "ModuleNotFoundError",
     "evalue": "No module named 'stl'",
     "output_type": "error",
     "traceback": [
      "\u001b[1;31m---------------------------------------------------------------------------\u001b[0m",
      "\u001b[1;31mModuleNotFoundError\u001b[0m                       Traceback (most recent call last)",
      "Cell \u001b[1;32mIn[4], line 1\u001b[0m\n\u001b[1;32m----> 1\u001b[0m \u001b[38;5;28;01mfrom\u001b[39;00m\u001b[38;5;250m \u001b[39m\u001b[38;5;21;01mhelpers\u001b[39;00m\u001b[38;5;250m \u001b[39m\u001b[38;5;28;01mimport\u001b[39;00m make_mesh\n",
      "File \u001b[1;32m~\\jack\\maths\\solids\\helpers.py:1\u001b[0m\n\u001b[1;32m----> 1\u001b[0m \u001b[38;5;28;01mfrom\u001b[39;00m\u001b[38;5;250m \u001b[39m\u001b[38;5;21;01mstl\u001b[39;00m\u001b[38;5;250m \u001b[39m\u001b[38;5;28;01mimport\u001b[39;00m mesh\n\u001b[0;32m      2\u001b[0m \u001b[38;5;28;01mimport\u001b[39;00m\u001b[38;5;250m \u001b[39m\u001b[38;5;21;01mnumpy\u001b[39;00m\u001b[38;5;250m \u001b[39m\u001b[38;5;28;01mas\u001b[39;00m\u001b[38;5;250m \u001b[39m\u001b[38;5;21;01mnp\u001b[39;00m\n\u001b[0;32m      4\u001b[0m \u001b[38;5;28;01mdef\u001b[39;00m\u001b[38;5;250m \u001b[39m\u001b[38;5;21mmake_mesh\u001b[39m(data):\n",
      "\u001b[1;31mModuleNotFoundError\u001b[0m: No module named 'stl'"
     ]
    }
   ],
   "source": [
    "from helpers import make_mesh"
   ]
  },
  {
   "cell_type": "code",
   "execution_count": 53,
   "id": "37c85194-1575-4f83-8364-e648c979d42d",
   "metadata": {},
   "outputs": [],
   "source": [
    "EIGHTH = [\n",
    "    [(0, 0, 2), (0, 1, 1), (1, 1, 1)],\n",
    "    [(0, 2, 1), (0, 1, 1), (1, 1, 1)],\n",
    "    [(0, 2, 1), (0, 2, 0), (1, 1, 1)],\n",
    "    [(2, 2, 0), (0, 2, 0), (1, 1, 1)],\n",
    "]   "
   ]
  },
  {
   "cell_type": "code",
   "execution_count": 54,
   "id": "34af0ec5-2573-4186-9a58-38e2e448443c",
   "metadata": {},
   "outputs": [],
   "source": [
    "def transform(shape, fn):\n",
    "    return [[fn(x, y, z) for x, y, z in tri] for tri in shape]"
   ]
  },
  {
   "cell_type": "code",
   "execution_count": 139,
   "id": "83ffb4e6-b4ca-4070-8f07-53f285e7c747",
   "metadata": {},
   "outputs": [],
   "source": [
    "Z_SCALE = sqrt(2)"
   ]
  },
  {
   "cell_type": "code",
   "execution_count": 141,
   "id": "f611d17d-caa6-45b8-a8a3-00c56ef4f982",
   "metadata": {},
   "outputs": [],
   "source": [
    "QUARTER = EIGHTH + transform(EIGHTH, lambda x, y, z: (y, x, z))"
   ]
  },
  {
   "cell_type": "code",
   "execution_count": 147,
   "id": "b04c0bb5-ce6c-413e-a3a4-e88f75ef3afb",
   "metadata": {},
   "outputs": [],
   "source": [
    "WALL = 0.4\n",
    "FLOOR = 0.6"
   ]
  },
  {
   "cell_type": "code",
   "execution_count": 148,
   "id": "c076c21b-34b7-41ee-b66d-b85de1b1f738",
   "metadata": {},
   "outputs": [],
   "source": [
    "HEIGHT = 2 * Z_SCALE + FLOOR"
   ]
  },
  {
   "cell_type": "code",
   "execution_count": 149,
   "id": "8825b5f6-21c4-4e05-b245-fb487bd7116a",
   "metadata": {},
   "outputs": [],
   "source": [
    "SIZE = 2 + WALL"
   ]
  },
  {
   "cell_type": "code",
   "execution_count": 150,
   "id": "069bc9dc-4a66-4e0a-8b45-17fa369b8aa1",
   "metadata": {},
   "outputs": [],
   "source": [
    "INNER_QUARTER = transform(QUARTER, lambda x, y, z: (x, y, HEIGHT - Z_SCALE * z))"
   ]
  },
  {
   "cell_type": "code",
   "execution_count": 151,
   "id": "64c3c5e7-1799-4e09-923b-918e09d094be",
   "metadata": {},
   "outputs": [
    {
     "data": {
      "text/plain": [
       "[[(0, 0, 0.6000000000000001),\n",
       "  (0, 1, 2.0142135623730955),\n",
       "  (1, 1, 2.0142135623730955)],\n",
       " [(0, 2, 2.0142135623730955),\n",
       "  (0, 1, 2.0142135623730955),\n",
       "  (1, 1, 2.0142135623730955)],\n",
       " [(0, 2, 2.0142135623730955),\n",
       "  (0, 2, 3.4284271247461904),\n",
       "  (1, 1, 2.0142135623730955)],\n",
       " [(2, 2, 3.4284271247461904),\n",
       "  (0, 2, 3.4284271247461904),\n",
       "  (1, 1, 2.0142135623730955)],\n",
       " [(0, 0, 0.6000000000000001),\n",
       "  (1, 0, 2.0142135623730955),\n",
       "  (1, 1, 2.0142135623730955)],\n",
       " [(2, 0, 2.0142135623730955),\n",
       "  (1, 0, 2.0142135623730955),\n",
       "  (1, 1, 2.0142135623730955)],\n",
       " [(2, 0, 2.0142135623730955),\n",
       "  (2, 0, 3.4284271247461904),\n",
       "  (1, 1, 2.0142135623730955)],\n",
       " [(2, 2, 3.4284271247461904),\n",
       "  (2, 0, 3.4284271247461904),\n",
       "  (1, 1, 2.0142135623730955)]]"
      ]
     },
     "execution_count": 151,
     "metadata": {},
     "output_type": "execute_result"
    }
   ],
   "source": [
    "INNER_QUARTER"
   ]
  },
  {
   "cell_type": "code",
   "execution_count": 152,
   "id": "2035e965-8665-47bb-9a6a-b0fbd0c62395",
   "metadata": {},
   "outputs": [],
   "source": [
    "QUARTER_FRONT_TRI_RAW = [\n",
    "    [(0, 1, 1), (0, 0, 2), (0, 1, 2)],\n",
    "    [(0, 1, 1), (0, 2, 2), (0, 1, 2)],\n",
    "    [(0, 1, 1), (0, 2, 1), (0, 2, 2)],\n",
    "]\n",
    "\n",
    "QUARTER_FRONT_TRI = transform(QUARTER_FRONT_TRI_RAW, lambda x, y, z: (x, y, HEIGHT - Z_SCALE * z))\n",
    "\n",
    "FRONT_BOTTOM_RECT = [\n",
    "    (0, 0, 0), (0, 0, FLOOR), (0, 2, FLOOR), (0, 2, 0)\n",
    "]\n",
    "\n",
    "QUARTER_FRONT = QUARTER_FRONT_TRI + list(triangulate(FRONT_BOTTOM_RECT))"
   ]
  },
  {
   "cell_type": "code",
   "execution_count": 153,
   "id": "4b846317-a215-48c5-87b9-9e57e93f8214",
   "metadata": {},
   "outputs": [],
   "source": [
    "MOULD_QUARTER = INNER_QUARTER + QUARTER_FRONT"
   ]
  },
  {
   "cell_type": "code",
   "execution_count": 154,
   "id": "4eee1eda-0d80-40ba-b59b-72f4ea6d7f90",
   "metadata": {},
   "outputs": [],
   "source": [
    "RIM_QUARTER = list(triangulate(\n",
    "    [(0, 2, HEIGHT), (0, SIZE, HEIGHT), (SIZE, SIZE, HEIGHT), (2, 2, HEIGHT)]\n",
    "))\n",
    "\n",
    "TOP_RIM = (\n",
    "    RIM_QUARTER\n",
    "    + transform(RIM_QUARTER, lambda x, y, z: (y, x, z))\n",
    "    + transform(RIM_QUARTER, lambda x, y, z: (x, -y, z))\n",
    "    + transform(RIM_QUARTER, lambda x, y, z: (y, -x, z))\n",
    ")"
   ]
  },
  {
   "cell_type": "code",
   "execution_count": 155,
   "id": "20d9a5a4-a3f6-42d7-a221-6f98c2b2545f",
   "metadata": {},
   "outputs": [],
   "source": [
    "FLOOR_SQUARE = list(triangulate(\n",
    "    [(0, 0, 0), (0, 2, 0), (2, 2, 0), (2, 0, 0)]\n",
    "))\n",
    "\n",
    "FLOOR_RIM = transform(TOP_RIM, lambda x, y, z: (x, y, 0))\n",
    "\n",
    "FLOOR_ALL = FLOOR_RIM + FLOOR_SQUARE"
   ]
  },
  {
   "cell_type": "code",
   "execution_count": 156,
   "id": "3939cd3d-6e0d-47f8-961b-221f369c1b43",
   "metadata": {},
   "outputs": [],
   "source": [
    "heights = [0, FLOOR, FLOOR + Z_SCALE, FLOOR + 2 * Z_SCALE]\n",
    "\n",
    "def wall_pieces(base1, base2):\n",
    "    x1, y1 = base1\n",
    "    x2, y2 = base2\n",
    "\n",
    "    for z1, z2 in zip(heights[:-1], heights[1:]):\n",
    "        yield from triangulate([(x1, y1, z1), (x1, y1, z2), (x2, y2, z2), (x2, y2, z1)])"
   ]
  },
  {
   "cell_type": "code",
   "execution_count": 157,
   "id": "e002d531-87ed-4e65-adea-213d7b2e24da",
   "metadata": {},
   "outputs": [],
   "source": [
    "LEFT_OUTER_PIECES = [\n",
    "    [(0, 2), (0, SIZE)],\n",
    "    [(0, SIZE), (SIZE, SIZE)],\n",
    "    [(SIZE, SIZE), (SIZE, 0)],\n",
    "]\n",
    "\n",
    "OUTER_PIECES = LEFT_OUTER_PIECES + [[(x, -y) for x, y in piece] for piece in LEFT_OUTER_PIECES]\n",
    "\n",
    "WALL_OUTER = list(tri for piece in OUTER_PIECES for tri in wall_pieces(*piece))"
   ]
  },
  {
   "cell_type": "code",
   "execution_count": 158,
   "id": "70e5b2b9-12eb-4795-96d4-fa67e65b696e",
   "metadata": {},
   "outputs": [],
   "source": [
    "WRAPPER = FLOOR_ALL + WALL_OUTER + TOP_RIM"
   ]
  },
  {
   "cell_type": "code",
   "execution_count": 159,
   "id": "a8d4c2e9-8090-482a-8233-6e403758f9e9",
   "metadata": {},
   "outputs": [],
   "source": [
    "OUTER_MOULD = MOULD_QUARTER + WRAPPER"
   ]
  },
  {
   "cell_type": "code",
   "execution_count": 160,
   "id": "e6c8062d-4045-437b-ac6b-5cc651769499",
   "metadata": {},
   "outputs": [],
   "source": [
    "DIVISION = (\n",
    "    transform(QUARTER_FRONT, lambda x, y, z: (y, x, z))\n",
    "    + list(wall_pieces((2, 0), (2, -2)))\n",
    "    + list(wall_pieces((2, -2), (0, -2)))\n",
    ")"
   ]
  },
  {
   "cell_type": "code",
   "execution_count": 161,
   "id": "b9a31fbc-ade2-4fca-b0e3-e744c0ec092e",
   "metadata": {},
   "outputs": [],
   "source": [
    "PIECE_4 = OUTER_MOULD + DIVISION"
   ]
  },
  {
   "cell_type": "code",
   "execution_count": 162,
   "id": "e34b97b5-60eb-4081-ae5d-9b46c30f2c33",
   "metadata": {},
   "outputs": [],
   "source": [
    "MM_SCALE = 15"
   ]
  },
  {
   "cell_type": "code",
   "execution_count": 163,
   "id": "e32a53ee-5cc4-4331-8089-bb563652779e",
   "metadata": {},
   "outputs": [],
   "source": [
    "def write_mesh(shape, scale, filename):\n",
    "    data = np.array(shape)\n",
    "    make_mesh(data * scale).save(filename)"
   ]
  },
  {
   "cell_type": "code",
   "execution_count": 164,
   "id": "3d195c1f-f853-4fa8-aaac-6889790684d0",
   "metadata": {},
   "outputs": [],
   "source": [
    "write_mesh(PIECE_4, MM_SCALE, 'piece_4.stl')"
   ]
  },
  {
   "cell_type": "code",
   "execution_count": 165,
   "id": "6afe8c8b-5e41-47e6-8d9c-9c72bceb4e15",
   "metadata": {},
   "outputs": [],
   "source": [
    "FILLER_SQUARE = transform(FLOOR_SQUARE, lambda x, y, z: (x, -y, z))\n",
    "FILLER_MOULD_QUARTER = transform(MOULD_QUARTER, lambda x, y, z: (x, -y, z))\n",
    "\n",
    "FILLER = FILLER_SQUARE + FILLER_MOULD_QUARTER"
   ]
  },
  {
   "cell_type": "code",
   "execution_count": 166,
   "id": "d79da09e-76b1-40bc-ba56-36435c567414",
   "metadata": {},
   "outputs": [],
   "source": [
    "PIECE_5 = FILLER + DIVISION"
   ]
  },
  {
   "cell_type": "code",
   "execution_count": 167,
   "id": "e764eb51-2588-4998-af6a-357b2274902c",
   "metadata": {},
   "outputs": [],
   "source": [
    "write_mesh(PIECE_5, MM_SCALE, 'piece_5.stl')"
   ]
  },
  {
   "cell_type": "code",
   "execution_count": 168,
   "id": "79e02909-77aa-4941-85b7-9c9d2b6ceef2",
   "metadata": {},
   "outputs": [],
   "source": [
    "PIECE_1 = OUTER_MOULD + FILLER"
   ]
  },
  {
   "cell_type": "code",
   "execution_count": 169,
   "id": "3a824f8c-c0a5-4929-8486-3d8aebab31a9",
   "metadata": {},
   "outputs": [],
   "source": [
    "write_mesh(PIECE_1, MM_SCALE, 'piece_1.stl')"
   ]
  },
  {
   "cell_type": "code",
   "execution_count": null,
   "id": "5f31f212-c505-472a-98b0-187ad54897b8",
   "metadata": {},
   "outputs": [],
   "source": []
  }
 ],
 "metadata": {
  "kernelspec": {
   "display_name": "Python 3 (ipykernel)",
   "language": "python",
   "name": "python3"
  },
  "language_info": {
   "codemirror_mode": {
    "name": "ipython",
    "version": 3
   },
   "file_extension": ".py",
   "mimetype": "text/x-python",
   "name": "python",
   "nbconvert_exporter": "python",
   "pygments_lexer": "ipython3",
   "version": "3.13.3"
  }
 },
 "nbformat": 4,
 "nbformat_minor": 5
}
